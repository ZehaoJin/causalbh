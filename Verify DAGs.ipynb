{
 "cells": [
  {
   "cell_type": "code",
   "execution_count": 6,
   "id": "31726d4e-568b-403d-b325-9ace99f940a2",
   "metadata": {},
   "outputs": [],
   "source": [
    "import numpy as np\n",
    "import networkx as nx\n",
    "import os\n",
    "import multiprocessing as mp\n",
    "import math\n",
    "\n",
    "from pathlib import Path\n",
    "from tqdm.auto import tqdm"
   ]
  },
  {
   "cell_type": "code",
   "execution_count": 2,
   "id": "96680860-6190-402b-9ed8-ab10700ae981",
   "metadata": {},
   "outputs": [],
   "source": [
    "root = Path(os.getenv('SLURM_TMPDIR'))"
   ]
  },
  {
   "cell_type": "code",
   "execution_count": 8,
   "id": "17dacd7d-6849-4dcf-8a8e-83ee4ca73341",
   "metadata": {},
   "outputs": [],
   "source": [
    "dags_compressed = np.load(root / 'dags_7_final.npy')"
   ]
  },
  {
   "cell_type": "code",
   "execution_count": 9,
   "id": "1718865b-be8d-4793-aacd-d4e679214599",
   "metadata": {},
   "outputs": [
    {
     "data": {
      "text/plain": [
       "(1138779265, 7)"
      ]
     },
     "execution_count": 9,
     "metadata": {},
     "output_type": "execute_result"
    }
   ],
   "source": [
    "dags_compressed.shape"
   ]
  },
  {
   "cell_type": "code",
   "execution_count": 10,
   "id": "1e899268-0dce-4f4d-8d00-f35f29b54e38",
   "metadata": {},
   "outputs": [],
   "source": [
    "def verify_dag(batch):\n",
    "    is_dag = np.zeros((len(batch),), dtype=np.bool_)\n",
    "\n",
    "    for i, dag_compressed in enumerate(batch):\n",
    "        adjacency = np.unpackbits(dag_compressed, count=7 ** 2)\n",
    "        adjacency = adjacency.reshape(7, 7)\n",
    "    \n",
    "        graph = nx.from_numpy_array(adjacency, create_using=nx.DiGraph)\n",
    "        is_dag[i] = nx.is_directed_acyclic_graph(graph)\n",
    "\n",
    "    return is_dag"
   ]
  },
  {
   "cell_type": "code",
   "execution_count": 11,
   "id": "40103da4-e17d-49a7-a412-322b8f34ed00",
   "metadata": {},
   "outputs": [],
   "source": [
    "def batch_iterate(array, batch_size=1):\n",
    "    for i in range(0, len(array), batch_size):\n",
    "        yield array[i:i + batch_size]"
   ]
  },
  {
   "cell_type": "code",
   "execution_count": 13,
   "id": "a4377bc7-3643-467a-b1e6-52e54a76168d",
   "metadata": {},
   "outputs": [
    {
     "data": {
      "application/vnd.jupyter.widget-view+json": {
       "model_id": "d2e9f7768ab74e01859d6cbb9e01f0a0",
       "version_major": 2,
       "version_minor": 0
      },
      "text/plain": [
       "  0%|          | 0/69506 [00:00<?, ?it/s]"
      ]
     },
     "metadata": {},
     "output_type": "display_data"
    }
   ],
   "source": [
    "num_dags = dags_compressed.shape[0]\n",
    "batch_size = 2048 * 8\n",
    "\n",
    "with mp.Pool(60) as pool:\n",
    "    is_dag = list(tqdm(pool.imap_unordered(verify_dag,\n",
    "        batch_iterate(dags_compressed, batch_size)),\n",
    "    total=math.ceil(num_dags / batch_size)))"
   ]
  },
  {
   "cell_type": "code",
   "execution_count": 14,
   "id": "e3a2b3ea-5da5-4dd6-aaf2-fc848750d7c7",
   "metadata": {},
   "outputs": [],
   "source": [
    "del dags_compressed"
   ]
  },
  {
   "cell_type": "code",
   "execution_count": 15,
   "id": "3d1e3b4c-46d5-420e-a0ec-a3f3ba497cbe",
   "metadata": {},
   "outputs": [],
   "source": [
    "is_dag_2 = np.concatenate(is_dag, axis=0)"
   ]
  },
  {
   "cell_type": "code",
   "execution_count": 16,
   "id": "d8f57699-99b2-4829-884a-760e54c98575",
   "metadata": {},
   "outputs": [
    {
     "data": {
      "text/plain": [
       "(1138779265,)"
      ]
     },
     "execution_count": 16,
     "metadata": {},
     "output_type": "execute_result"
    }
   ],
   "source": [
    "is_dag_2.shape"
   ]
  },
  {
   "cell_type": "code",
   "execution_count": 18,
   "id": "6967d0a6-f1a9-4a55-a420-e1b00a59c319",
   "metadata": {},
   "outputs": [
    {
     "data": {
      "text/plain": [
       "True"
      ]
     },
     "execution_count": 18,
     "metadata": {},
     "output_type": "execute_result"
    }
   ],
   "source": [
    "np.all(is_dag_2)"
   ]
  },
  {
   "cell_type": "code",
   "execution_count": null,
   "id": "fd574466-5745-4fc0-ba56-c292ee6742d2",
   "metadata": {},
   "outputs": [],
   "source": []
  }
 ],
 "metadata": {
  "kernelspec": {
   "display_name": "Python 3 (ipykernel)",
   "language": "python",
   "name": "python3"
  },
  "language_info": {
   "codemirror_mode": {
    "name": "ipython",
    "version": 3
   },
   "file_extension": ".py",
   "mimetype": "text/x-python",
   "name": "python",
   "nbconvert_exporter": "python",
   "pygments_lexer": "ipython3",
   "version": "3.9.15"
  }
 },
 "nbformat": 4,
 "nbformat_minor": 5
}
