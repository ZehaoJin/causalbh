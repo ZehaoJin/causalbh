{
 "cells": [
  {
   "cell_type": "code",
   "execution_count": 1,
   "id": "b5e06067-2c63-4885-889e-1d2ee21879ac",
   "metadata": {},
   "outputs": [],
   "source": [
    "%matplotlib inline\n",
    "import numpy as np\n",
    "import matplotlib.pyplot as plt\n",
    "import jax.numpy as jnp\n",
    "import jax\n",
    "import os\n",
    "import pandas as pd\n",
    "import math\n",
    "\n",
    "from scipy.special import logsumexp\n",
    "from pathlib import Path\n",
    "from tqdm.auto import tqdm, trange"
   ]
  },
  {
   "cell_type": "code",
   "execution_count": 2,
   "id": "d927bc30-7900-400f-ad6e-0c324afec08f",
   "metadata": {},
   "outputs": [],
   "source": [
    "def get_transitive_closure(adjacency):\n",
    "    # Warshall's algorithm\n",
    "    def scan_fun(closure, i):\n",
    "        outer_product = jnp.outer(closure[:, i], closure[i])\n",
    "        return (jnp.logical_or(closure, outer_product), None)\n",
    "    \n",
    "    adjacency = adjacency.astype(jnp.bool_)\n",
    "    arange = jnp.arange(adjacency.shape[0])\n",
    "    closure, _ = jax.lax.scan(scan_fun, adjacency, arange)\n",
    "\n",
    "    return closure"
   ]
  },
  {
   "cell_type": "code",
   "execution_count": 3,
   "id": "d47038ba-9eda-4fbe-ba7b-0375167cf923",
   "metadata": {},
   "outputs": [],
   "source": [
    "def path_log_marginal(dags_compressed, log_joint, num_variables, batch_size=1, verbose=True):\n",
    "    @jax.jit\n",
    "    def marginalize(log_probs, adjacencies_compressed):\n",
    "        adjacencies = jnp.unpackbits(adjacencies_compressed, axis=1, count=num_variables ** 2)\n",
    "        adjacencies = adjacencies.reshape(-1, num_variables, num_variables)\n",
    "        closures = jax.vmap(get_transitive_closure)(adjacencies)\n",
    "        log_probs = jnp.where(closures, log_probs[:, None, None], -jnp.inf)\n",
    "        return jax.nn.logsumexp(log_probs, axis=0)\n",
    "\n",
    "    num_dags = dags_compressed.shape[0]\n",
    "    log_marginal = []\n",
    "    for i in trange(0, num_dags, batch_size, disable=(not verbose)):\n",
    "        # Get a batch of data\n",
    "        batch_compressed = dags_compressed[i:i + batch_size]\n",
    "        log_probs = log_joint[i:i + batch_size]\n",
    "\n",
    "        log_marginal.append(marginalize(log_probs, batch_compressed))\n",
    "\n",
    "    log_marginal = np.stack(log_marginal, axis=0)\n",
    "    log_marginal = logsumexp(log_marginal, axis=0)\n",
    "    return log_marginal.reshape(num_variables, num_variables)"
   ]
  },
  {
   "cell_type": "code",
   "execution_count": 4,
   "id": "c4d2bfd9-dbc4-4df2-bfdd-32db09be615e",
   "metadata": {},
   "outputs": [],
   "source": [
    "root = Path(os.getenv('SLURM_TMPDIR'))"
   ]
  },
  {
   "cell_type": "code",
   "execution_count": 5,
   "id": "1af953ac-0bba-40dd-b958-ffae9d9cbcb9",
   "metadata": {},
   "outputs": [],
   "source": [
    "dags_compressed = np.load(root / 'dags_7_final.npy')"
   ]
  },
  {
   "cell_type": "code",
   "execution_count": 6,
   "id": "47e53797-6d20-4c77-8645-a4282c1d69dc",
   "metadata": {},
   "outputs": [
    {
     "data": {
      "text/plain": [
       "(1138779265, 7)"
      ]
     },
     "execution_count": 6,
     "metadata": {},
     "output_type": "execute_result"
    }
   ],
   "source": [
    "dags_compressed.shape"
   ]
  },
  {
   "cell_type": "code",
   "execution_count": 7,
   "id": "4921da67-9ac0-4896-b19b-726ec3fdc42a",
   "metadata": {},
   "outputs": [],
   "source": [
    "datasets = ['ell', 'len', 'spr']\n",
    "dfs, observations = {}, {}\n",
    "\n",
    "for dataset in datasets:\n",
    "    dfs[dataset] = pd.read_csv(f'data/causal_BH_{dataset}.csv')\n",
    "    dfs[dataset] = dfs[dataset].apply(lambda col: col - col.mean(), axis=0)  # Center data\n",
    "    observations[dataset] = np.asarray(dfs[dataset])"
   ]
  },
  {
   "cell_type": "code",
   "execution_count": null,
   "id": "cb17deea-7177-4d8d-b098-ddc3e08880d8",
   "metadata": {},
   "outputs": [
    {
     "data": {
      "application/vnd.jupyter.widget-view+json": {
       "model_id": "41f25f9fe1b642289a4c0b5c536b17bb",
       "version_major": 2,
       "version_minor": 0
      },
      "text/plain": [
       "  0%|          | 0/1112090 [00:00<?, ?it/s]"
      ]
     },
     "metadata": {},
     "output_type": "display_data"
    }
   ],
   "source": [
    "log_path_marginals = {}\n",
    "for dataset in datasets:\n",
    "    log_joint = np.load(root / 'causalbh' / f'log_joint_{dataset}.npy')\n",
    "    log_path_marginals[dataset] = path_log_marginal(dags_compressed,\n",
    "        log_joint, observations[dataset].shape[1], batch_size=1024)\n",
    "\n",
    "    with open(root / 'causalbh' / f'log_path_marginal_{dataset}.npy', 'wb') as f:\n",
    "        np.save(f, log_path_marginals[dataset])"
   ]
  },
  {
   "cell_type": "code",
   "execution_count": null,
   "id": "71160de8-ff73-4f00-bf8f-caad01f2941a",
   "metadata": {},
   "outputs": [],
   "source": []
  }
 ],
 "metadata": {
  "kernelspec": {
   "display_name": "Python 3 (ipykernel)",
   "language": "python",
   "name": "python3"
  },
  "language_info": {
   "codemirror_mode": {
    "name": "ipython",
    "version": 3
   },
   "file_extension": ".py",
   "mimetype": "text/x-python",
   "name": "python",
   "nbconvert_exporter": "python",
   "pygments_lexer": "ipython3",
   "version": "3.9.15"
  }
 },
 "nbformat": 4,
 "nbformat_minor": 5
}
